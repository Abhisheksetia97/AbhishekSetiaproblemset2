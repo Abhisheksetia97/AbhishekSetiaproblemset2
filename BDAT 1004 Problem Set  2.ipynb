{
 "cells": [
  {
   "cell_type": "markdown",
   "id": "b3d17b4b",
   "metadata": {},
   "source": [
    "# Problem Set 2 #"
   ]
  },
  {
   "cell_type": "markdown",
   "id": "32d34466",
   "metadata": {},
   "source": [
    "### Question 1 ###"
   ]
  },
  {
   "cell_type": "markdown",
   "id": "cfe1876c",
   "metadata": {},
   "source": [
    "Code declares a global variable a with a value of 0, therefore the result is 6. The global keyword is utilised by the b() function. The value of an is supplied as an argument when the c(a) function is invoked inside of b().\n",
    "\n",
    "The first time you call b(), it changes a to 2.\n",
    "The second time you call b(), it changes a to 4.\n",
    "The third time b() is called, an is changed to 6\n",
    "\n",
    "The outcome of three calls to c(a), each of which adds two to a. As a result, the value of an is changed from zero to two, four, and finally six."
   ]
  },
  {
   "cell_type": "markdown",
   "id": "94ebc889",
   "metadata": {},
   "source": [
    "### Question 2 ###"
   ]
  },
  {
   "cell_type": "code",
   "execution_count": 20,
   "id": "218662e5",
   "metadata": {},
   "outputs": [
    {
     "name": "stdout",
     "output_type": "stream",
     "text": [
      "123\n",
      "File {file} not found.\n"
     ]
    }
   ],
   "source": [
    "def fileLength(file):\n",
    "    try:\n",
    "        a = open(file, 'r')\n",
    "        b = a.read()\n",
    "        totallength=len(b)\n",
    "        print(totallength)\n",
    "    except:\n",
    "        print(\"File {file} not found.\")\n",
    "\n",
    "fileLength('filelength.txt')\n",
    "fileLength('idterm.py')"
   ]
  },
  {
   "cell_type": "markdown",
   "id": "422a6258",
   "metadata": {},
   "source": [
    "### Question 3 ###"
   ]
  },
  {
   "cell_type": "code",
   "execution_count": 1,
   "id": "0de00d20",
   "metadata": {},
   "outputs": [
    {
     "name": "stdout",
     "output_type": "stream",
     "text": [
      "['doll', 'firetruck', 'kitten']\n"
     ]
    }
   ],
   "source": [
    "class Marsupial:\n",
    "    def __init__(self):\n",
    "        self.pouch = []\n",
    "    \n",
    "    def put_in_pouch(self, item):\n",
    "        self.pouch.append(item)\n",
    "    \n",
    "    def pouch_contents(self):\n",
    "        return self.pouch\n",
    "m = Marsupial()\n",
    "m.put_in_pouch('doll')\n",
    "m.put_in_pouch('firetruck')\n",
    "m.put_in_pouch('kitten')\n",
    "print(m.pouch_contents())  # Output: ['doll', 'firetruck', 'kitten']\n",
    "\n",
    "\n",
    "\n"
   ]
  },
  {
   "cell_type": "markdown",
   "id": "b8d5543f",
   "metadata": {},
   "source": [
    "### Question 3.b ####"
   ]
  },
  {
   "cell_type": "code",
   "execution_count": 2,
   "id": "c5cb55d0",
   "metadata": {},
   "outputs": [
    {
     "name": "stdout",
     "output_type": "stream",
     "text": [
      "['doll', 'firetruck', 'kitten']\n",
      "I am a Kangaroo located at coordinates (0,0)\n",
      "['doll', 'firetruck', 'kitten']\n",
      "I am a Kangaroo located at coordinates (3,0)\n"
     ]
    }
   ],
   "source": [
    "class Marsupial:\n",
    "    def __init__(self):\n",
    "        self.pouch = []\n",
    "    \n",
    "    def put_in_pouch(self, item):\n",
    "        self.pouch.append(item)\n",
    "    \n",
    "    def pouch_contents(self):\n",
    "        return self.pouch\n",
    "m = Marsupial()\n",
    "m.put_in_pouch('doll')\n",
    "m.put_in_pouch('firetruck')\n",
    "m.put_in_pouch('kitten')\n",
    "print(m.pouch_contents())  # Output: ['doll', 'firetruck', 'kitten']\n",
    "\n",
    "class Kangaroo(Marsupial):\n",
    "    def __init__(self, x=0, y=0):\n",
    "        super().__init__()\n",
    "        self.x = x\n",
    "        self.y = y\n",
    "    \n",
    "    def jump(self, dx, dy):\n",
    "        self.x += dx\n",
    "        self.y += dy\n",
    "    \n",
    "    def __str__(self):\n",
    "        return f\"I am a Kangaroo located at coordinates ({self.x},{self.y})\"\n",
    "k = Kangaroo(0, 0)\n",
    "print(k)  # Output: I am a Kangaroo located at coordinates (0,0)\n",
    "k.put_in_pouch('doll')\n",
    "k.put_in_pouch('firetruck')\n",
    "k.put_in_pouch('kitten')\n",
    "print(k.pouch_contents())  # Output: ['doll', 'firetruck', 'kitten']\n",
    "k.jump(1, 0)\n",
    "k.jump(1, 0)\n",
    "k.jump(1, 0)\n",
    "print(k)  # Output: I am a Kangaroo located at coordinates (3,0)"
   ]
  },
  {
   "cell_type": "markdown",
   "id": "5c544d15",
   "metadata": {},
   "source": [
    " ### Question 4 ###"
   ]
  },
  {
   "cell_type": "code",
   "execution_count": 63,
   "id": "c90f1ff0",
   "metadata": {},
   "outputs": [
    {
     "name": "stdout",
     "output_type": "stream",
     "text": [
      "1\n",
      "10\n",
      "5\n",
      "16\n",
      "8\n",
      "4\n",
      "2\n",
      "1\n"
     ]
    }
   ],
   "source": [
    "def collatz(x):\n",
    "    print(x)\n",
    "    if x%2==0:\n",
    "        collatz(x // 2)\n",
    "    elif x == 1:\n",
    "        return\n",
    "    else:\n",
    "        collatz(3 * x+1)\n",
    "\n",
    "collatz(1)\n",
    "collatz(10)\n",
    "\n",
    "    "
   ]
  },
  {
   "cell_type": "markdown",
   "id": "fae06408",
   "metadata": {},
   "source": [
    "### Question 5 ###"
   ]
  },
  {
   "cell_type": "code",
   "execution_count": 24,
   "id": "152b9187",
   "metadata": {},
   "outputs": [
    {
     "data": {
      "text/plain": [
       "'0'"
      ]
     },
     "execution_count": 24,
     "metadata": {},
     "output_type": "execute_result"
    }
   ],
   "source": [
    "def binary(n):\n",
    "    if n == 0:\n",
    "        return \"0\"\n",
    "    elif n == 1:\n",
    "        return \"1\"\n",
    "    else:\n",
    "        x=n%2\n",
    "        n=int(n/2)\n",
    "        return int(str(binary(n))+str(x))\n",
    "binary(0)"
   ]
  },
  {
   "cell_type": "code",
   "execution_count": 25,
   "id": "49ade0ce",
   "metadata": {},
   "outputs": [
    {
     "data": {
      "text/plain": [
       "'1'"
      ]
     },
     "execution_count": 25,
     "metadata": {},
     "output_type": "execute_result"
    }
   ],
   "source": [
    "binary(1)"
   ]
  },
  {
   "cell_type": "code",
   "execution_count": 26,
   "id": "ecf857ad",
   "metadata": {},
   "outputs": [
    {
     "data": {
      "text/plain": [
       "11"
      ]
     },
     "execution_count": 26,
     "metadata": {},
     "output_type": "execute_result"
    }
   ],
   "source": [
    "binary(3)"
   ]
  },
  {
   "cell_type": "code",
   "execution_count": 27,
   "id": "43ac3477",
   "metadata": {},
   "outputs": [
    {
     "data": {
      "text/plain": [
       "1001"
      ]
     },
     "execution_count": 27,
     "metadata": {},
     "output_type": "execute_result"
    }
   ],
   "source": [
    "binary(9)"
   ]
  },
  {
   "cell_type": "markdown",
   "id": "e5c235de",
   "metadata": {},
   "source": [
    "### Question 6 ###"
   ]
  },
  {
   "cell_type": "code",
   "execution_count": 28,
   "id": "1f03b9fc",
   "metadata": {},
   "outputs": [],
   "source": [
    "from html.parser import HTMLParser\n",
    "\n",
    "class HeadingParser(HTMLParser):\n",
    "    firsttag=\"\"\n",
    "    secondtag=\"\"\n",
    "    \n",
    "    def __init__(self):\n",
    "        HTMLParser.__init__(self)\n",
    "        \n",
    "    def handle_starttag(self,tag,attr):\n",
    "        if tag=='h1':\n",
    "            self.firsttag=True\n",
    "        elif tag=='h2':\n",
    "            self.secondtag=True\n",
    "            \n",
    "    def handle_data(self,data):\n",
    "        if self.firsttag:\n",
    "            print(data)\n",
    "        elif self.secondtag:\n",
    "            print(\" \"+data)\n",
    "            \n",
    "    def handle_endtag(self,tag):\n",
    "        if tag=='h1':\n",
    "            self.firsttag=False\n",
    "        elif tag=='h2':\n",
    "            self.secondtag=False\n",
    "            \n",
    "infile = open('w3c.html')\n",
    "content =infile.read()\n",
    "hp = HeadingParser()\n",
    "hp.feed(content)"
   ]
  },
  {
   "cell_type": "markdown",
   "id": "08c6a0b4",
   "metadata": {},
   "source": [
    "### Question 7  ###"
   ]
  },
  {
   "cell_type": "code",
   "execution_count": 29,
   "id": "bbe1ecd3",
   "metadata": {},
   "outputs": [
    {
     "name": "stdout",
     "output_type": "stream",
     "text": [
      "http://reed.cs.depaul.edu/lperkovic/test1.html\n",
      " http://reed.cs.depaul.edu/lperkovic/test2.html\n",
      "  http://reed.cs.depaul.edu/lperkovic/test4.html\n",
      " http://reed.cs.depaul.edu/lperkovic/test3.html\n",
      "  http://reed.cs.depaul.edu/lperkovic/test4.html\n"
     ]
    }
   ],
   "source": [
    "import urllib.request\n",
    "from html.parser import HTMLParser\n",
    "\n",
    "class MyParser(HTMLParser):\n",
    "    def handle_starttag(self, tag, attrs):\n",
    "        if tag=='a':\n",
    "            for attr in attrs:\n",
    "                if attr[0]=='href':\n",
    "                    if attr[1][-4:]=='html':\n",
    "                        if attr[1][:4]=='http':\n",
    "                            webdir(attr[1],1,1)\n",
    "                        elif attr[1][:5]=='test3':\n",
    "                            url='http://reed.cs.depaul.edu/lperkovic/'+attr[1]\n",
    "                            webdir(url,0,1)\n",
    "                        else:\n",
    "                            url='http://reed.cs.depaul.edu/lperkovic/'+attr[1]\n",
    "                            webdir(url,0,2)\n",
    "\n",
    "def webdir(url,depth,indent):\n",
    "    if indent==0:\n",
    "        print(url)\n",
    "    elif indent==1:\n",
    "        print(\" \"+url)\n",
    "    elif indent==2:\n",
    "        print(\"  \"+url)\n",
    "    request = urllib.request.urlopen(url)\n",
    "    html=request.read().decode(\"utf8\")\n",
    "    parser =MyParser()\n",
    "    parser.feed(html)\n",
    "webdir('http://reed.cs.depaul.edu/lperkovic/test1.html',2,0)"
   ]
  },
  {
   "cell_type": "markdown",
   "id": "a1bbe6f3",
   "metadata": {},
   "source": [
    "### Question 8 ###"
   ]
  },
  {
   "cell_type": "markdown",
   "id": "c8012776",
   "metadata": {},
   "source": [
    "Quens: All the temperature data.\n",
    "\n",
    "Ans :select * from temperature;"
   ]
  },
  {
   "cell_type": "markdown",
   "id": "ec75f501",
   "metadata": {},
   "source": [
    "Quens: All the cities, but without repetition\n",
    "\n",
    "Ans: select distinct City from temperature;"
   ]
  },
  {
   "cell_type": "markdown",
   "id": "5198a88d",
   "metadata": {},
   "source": [
    "Quns: All the records for India.\n",
    "\n",
    "Ans: select * from temperature where Country='India';"
   ]
  },
  {
   "cell_type": "markdown",
   "id": "cd7b8465",
   "metadata": {},
   "source": [
    "Quens: All the Fall records\n",
    "\n",
    "Ans: select * from temperature where season ='Fall';"
   ]
  },
  {
   "cell_type": "markdown",
   "id": "7ffa5dc8",
   "metadata": {},
   "source": [
    "Quens: The city, country, and season for which the average rainfall is between 200 and 400 millimeters.\n",
    "\n",
    "Ans: select city, country, season from temperature where Rainfall between 200 and 400;"
   ]
  },
  {
   "cell_type": "markdown",
   "id": "f128e6cb",
   "metadata": {},
   "source": [
    "Quens: The city and country for which the average Fall temperature is above 20 degrees, in increasing temperature order.\n",
    "    \n",
    "Ans: select city,country from temperature where temperature>20 order by temperature asc;"
   ]
  },
  {
   "cell_type": "markdown",
   "id": "e94bd096",
   "metadata": {},
   "source": [
    "Quns: The total annual rainfall for Cairo.\n",
    "    \n",
    "Ans: select sum(Rainfall) as \"annual rainfall\" from temperature where city='Cairo';"
   ]
  },
  {
   "cell_type": "markdown",
   "id": "d55b9e18",
   "metadata": {},
   "source": [
    "Quns: The total rainfall for each season.\n",
    "    \n",
    "Ans: select season,sum(Rainfall) as \"annual rainfall\" from temperature group by season;"
   ]
  },
  {
   "cell_type": "code",
   "execution_count": 41,
   "id": "804f51a4",
   "metadata": {},
   "outputs": [
    {
     "name": "stdout",
     "output_type": "stream",
     "text": [
      "A) ['THE', 'QUICK', 'BROWN', 'FOX', 'JUMPS', 'OVER', 'THE', 'LAZY', 'DOG']\n",
      "B) ['the', 'quick', 'brown', 'fox', 'jumps', 'over', 'the', 'lazy', 'dog']\n",
      "C) [3, 5, 5, 3, 5, 4, 3, 4, 3]\n",
      "D) ['THE', 'the', 3, 'QUICK', 'quick', 5, 'BROWN', 'brown', 5, 'FOX', 'fox', 3, 'JUMPS', 'jumps', 5, 'OVER', 'over', 4, 'THE', 'the', 3, 'LAZY', 'lazy', 4, 'DOG', 'dog', 3]\n",
      "E) ['quick', 'brown', 'jumps', 'over', 'lazy']\n"
     ]
    }
   ],
   "source": [
    "words = ['The', 'quick', 'brown', 'fox', 'jumps', 'over', 'the', 'lazy', 'dog']\n",
    "wordsupper=[]\n",
    "wordslower=[]\n",
    "wordslength=[]\n",
    "wordupperandlength=[]\n",
    "wordswithlimitedlength=[]\n",
    "for word in words:\n",
    "    wordsupper.append(word.upper())\n",
    "print('A)', wordsupper)\n",
    "for word in words:\n",
    "    wordslower.append(word.lower())\n",
    "print('B)',wordslower)\n",
    "\n",
    "for word in words:\n",
    "    wordslength.append(len(word))\n",
    "print('C)',wordslength)\n",
    "\n",
    "for word in words:\n",
    "    wordupperandlength.append(word.upper())\n",
    "    wordupperandlength.append(word.lower())\n",
    "    wordupperandlength.append(len(word))\n",
    "print('D)',wordupperandlength)\n",
    "wordswithlimitedlength=[]\n",
    "\n",
    "for word in words:\n",
    "    if len(word)>=4:\n",
    "        wordswithlimitedlength.append(word.lower())\n",
    "print('E)',wordswithlimitedlength)"
   ]
  },
  {
   "cell_type": "code",
   "execution_count": null,
   "id": "881937cb",
   "metadata": {},
   "outputs": [],
   "source": []
  }
 ],
 "metadata": {
  "kernelspec": {
   "display_name": "Python 3 (ipykernel)",
   "language": "python",
   "name": "python3"
  },
  "language_info": {
   "codemirror_mode": {
    "name": "ipython",
    "version": 3
   },
   "file_extension": ".py",
   "mimetype": "text/x-python",
   "name": "python",
   "nbconvert_exporter": "python",
   "pygments_lexer": "ipython3",
   "version": "3.9.13"
  }
 },
 "nbformat": 4,
 "nbformat_minor": 5
}

